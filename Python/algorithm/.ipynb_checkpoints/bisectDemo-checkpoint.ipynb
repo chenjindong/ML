{
 "cells": [
  {
   "cell_type": "code",
   "execution_count": 16,
   "metadata": {},
   "outputs": [
    {
     "name": "stdout",
     "output_type": "stream",
     "text": [
      "[2, 3, 4, 5, 7]\n",
      "2\n"
     ]
    }
   ],
   "source": [
    "import bisect\n",
    "data = [7,3,2,4]\n",
    "data.sort()\n",
    "bisect.insort(data,5) # 二分插入\n",
    "print(data)\n",
    "num=bisect.bisect(data,3) # 返回要插入数字的下标\n",
    "print(num)\n",
    "#bisect_left 和 bisect_right 函数，该函数用入处理将会插入重复数值的情况，返回将会插入的位置\n",
    "#其对应的插入函数是 insort_left  和 insort_right "
   ]
  }
 ],
 "metadata": {
  "kernelspec": {
   "display_name": "Python 3",
   "language": "python",
   "name": "python3"
  },
  "language_info": {
   "codemirror_mode": {
    "name": "ipython",
    "version": 3
   },
   "file_extension": ".py",
   "mimetype": "text/x-python",
   "name": "python",
   "nbconvert_exporter": "python",
   "pygments_lexer": "ipython3",
   "version": "3.6.3"
  }
 },
 "nbformat": 4,
 "nbformat_minor": 2
}
